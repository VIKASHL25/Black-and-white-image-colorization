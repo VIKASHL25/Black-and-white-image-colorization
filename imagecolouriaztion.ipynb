{
 "cells": [
  {
   "cell_type": "code",
   "execution_count": 14,
   "id": "71e8aa50",
   "metadata": {},
   "outputs": [],
   "source": [
    "import numpy as np\n",
    "import cv2\n",
    "from cv2 import dnn"
   ]
  },
  {
   "cell_type": "code",
   "execution_count": 15,
   "id": "5d526f98",
   "metadata": {},
   "outputs": [],
   "source": [
    "proto_file = 'Model\\colorization_deploy_v2.prototxt'\n",
    "model_file = 'Model\\colorization_release_v2.caffemodel'\n",
    "hull_pts = 'Model\\pts_in_hull.npy'\n",
    "img_path = 'images/img1.jpg'"
   ]
  },
  {
   "cell_type": "code",
   "execution_count": 16,
   "id": "cf7646b0",
   "metadata": {},
   "outputs": [],
   "source": [
    "net=dnn.readNetFromCaffe(proto_file,model_file)\n",
    "kernel=np.load(hull_pts)"
   ]
  },
  {
   "cell_type": "code",
   "execution_count": 17,
   "id": "a90bf328",
   "metadata": {},
   "outputs": [],
   "source": [
    "\n",
    "img=cv2.imread(img_path)\n",
    "scaled=img.astype(\"float32\")/255.0\n",
    "lab_img=cv2.cvtColor(scaled,cv2.COLOR_BGR2LAB)\n"
   ]
  },
  {
   "cell_type": "code",
   "execution_count": 18,
   "id": "791ce7b6",
   "metadata": {},
   "outputs": [],
   "source": [
    "class8=net.getLayerId(\"class8_ab\")\n",
    "conv8=net.getLayerId(\"conv8_313_rh\")\n",
    "pts=kernel.transpose().reshape(2,313,1,1)\n",
    "net.getLayer(class8).blobs=[pts.astype(\"float32\")]\n",
    "net.getLayer(conv8).blobs=[np.full([1,313],2.606,dtype=\"float32\")]"
   ]
  },
  {
   "cell_type": "code",
   "execution_count": 19,
   "id": "421a04ec",
   "metadata": {},
   "outputs": [],
   "source": [
    "resized = cv2.resize(lab_img, (224, 224))\n",
    "L = cv2.split(resized)[0]\n",
    "L -= 50 "
   ]
  },
  {
   "cell_type": "code",
   "execution_count": 20,
   "id": "4a8e66f1",
   "metadata": {},
   "outputs": [],
   "source": [
    "net.setInput(cv2.dnn.blobFromImage(L))\n",
    "ab_channel = net.forward()[0, :, :, :].transpose((1, 2, 0))"
   ]
  },
  {
   "cell_type": "code",
   "execution_count": 21,
   "id": "7d941186",
   "metadata": {},
   "outputs": [],
   "source": [
    "ab_channel=cv2.resize(ab_channel,(img.shape[1],img.shape[0]))"
   ]
  },
  {
   "cell_type": "code",
   "execution_count": 22,
   "id": "f99b455a",
   "metadata": {},
   "outputs": [],
   "source": [
    "L=cv2.split(lab_img)[0]\n",
    "color=np.concatenate((L[:,:,np.newaxis],ab_channel),axis=2)"
   ]
  },
  {
   "cell_type": "code",
   "execution_count": 23,
   "id": "712033ab",
   "metadata": {},
   "outputs": [],
   "source": [
    "color=cv2.cvtColor(color, cv2.COLOR_LAB2BGR)\n",
    "color=np.clip(color, 0, 1)"
   ]
  },
  {
   "cell_type": "code",
   "execution_count": 24,
   "id": "274c28b8",
   "metadata": {},
   "outputs": [],
   "source": [
    "color=(255*color).astype(\"uint8\")"
   ]
  },
  {
   "cell_type": "code",
   "execution_count": 25,
   "id": "697dc8a1",
   "metadata": {},
   "outputs": [],
   "source": [
    "img=cv2.resize(img,(640,640))\n",
    "color=cv2.resize(color,(640,640))"
   ]
  },
  {
   "cell_type": "code",
   "execution_count": 26,
   "id": "2e581244",
   "metadata": {},
   "outputs": [
    {
     "data": {
      "text/plain": [
       "-1"
      ]
     },
     "execution_count": 26,
     "metadata": {},
     "output_type": "execute_result"
    }
   ],
   "source": [
    "res=cv2.hconcat([img,color])\n",
    "cv2.imshow(\"Graysacle->color\",res)\n",
    "cv2.waitKey(0)"
   ]
  }
 ],
 "metadata": {
  "kernelspec": {
   "display_name": "base",
   "language": "python",
   "name": "python3"
  },
  "language_info": {
   "codemirror_mode": {
    "name": "ipython",
    "version": 3
   },
   "file_extension": ".py",
   "mimetype": "text/x-python",
   "name": "python",
   "nbconvert_exporter": "python",
   "pygments_lexer": "ipython3",
   "version": "3.13.5"
  }
 },
 "nbformat": 4,
 "nbformat_minor": 5
}
